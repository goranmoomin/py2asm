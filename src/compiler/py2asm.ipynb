{
 "cells": [
  {
   "cell_type": "code",
   "execution_count": 1,
   "metadata": {
    "autoscroll": false,
    "collapsed": false,
    "ein.hycell": false,
    "ein.tags": "worksheet-0",
    "slideshow": {
     "slide_type": "-"
    }
   },
   "outputs": [
    {
     "name": "stderr",
     "output_type": "stream",
     "text": [
      "/Users/josungbin/.pyenv/versions/2.7.16/envs/jupyter-2.7/lib/python2.7/site-packages/ipykernel_launcher.py:1: DeprecationWarning: The compiler package is deprecated and removed in Python 3.x.\n",
      "  \"\"\"Entry point for launching an IPython kernel.\n"
     ]
    }
   ],
   "source": [
    "import compiler"
   ]
  },
  {
   "cell_type": "code",
   "execution_count": 2,
   "metadata": {
    "autoscroll": false,
    "collapsed": false,
    "ein.hycell": false,
    "ein.tags": "worksheet-0",
    "slideshow": {
     "slide_type": "-"
    }
   },
   "outputs": [],
   "source": [
    "from compiler.ast import *"
   ]
  },
  {
   "cell_type": "markdown",
   "metadata": {
    "ein.tags": "worksheet-0",
    "slideshow": {
     "slide_type": "-"
    }
   },
   "source": [
    "In P0, the AST nodes that are recognized are:\n",
    "* `Add`\n",
    "* `Assign`\n",
    "* `AssName`\n",
    "* `CallFunc`\n",
    "* `Const`\n",
    "* `Div`\n",
    "* `Module`\n",
    "* `Mul`\n",
    "* `Printnl`\n",
    "* `Stmt`\n",
    "* `Sub`\n",
    "* `UnaryAdd`\n",
    "* `UnarySub`\n",
    "\n",
    "Nodes are classified as expressions or statements.\n",
    "Nodes `Name` and `Const` are called atoms.\n",
    "Expressions are called simple if it's properties only consist of atoms."
   ]
  },
  {
   "cell_type": "code",
   "execution_count": 6,
   "metadata": {
    "autoscroll": false,
    "collapsed": false,
    "ein.hycell": false,
    "ein.tags": "worksheet-0",
    "slideshow": {
     "slide_type": "-"
    }
   },
   "outputs": [],
   "source": [
    "def isatom(ast):\n",
    "    atom_types = (Name, Const)\n",
    "    return isinstance(ast, atom_types)"
   ]
  },
  {
   "cell_type": "code",
   "execution_count": 7,
   "metadata": {
    "autoscroll": false,
    "collapsed": false,
    "ein.hycell": false,
    "ein.tags": "worksheet-0",
    "slideshow": {
     "slide_type": "-"
    }
   },
   "outputs": [],
   "source": [
    "def isexpr(ast):\n",
    "    expr_types = (Add, CallFunc, Const, Div, Mul, Sub, UnaryAdd, UnarySub)\n",
    "    return isinstance(ast, expr_types)"
   ]
  },
  {
   "cell_type": "code",
   "execution_count": 8,
   "metadata": {
    "autoscroll": false,
    "collapsed": false,
    "ein.hycell": false,
    "ein.tags": "worksheet-0",
    "slideshow": {
     "slide_type": "-"
    }
   },
   "outputs": [],
   "source": [
    "def issimple(expr):\n",
    "    if not isexpr(expr):\n",
    "        raise Exception(\"Error in issimple: node {} is not an expression\"\n",
    "                        .format(expr))\n",
    "    if isatom(expr):\n",
    "        return True\n",
    "    elif isinstance(expr, (Add, Div, Mul, Sub)):\n",
    "        return any(isatom(node) for node in [ast.left, ast.right])\n",
    "    elif isinstance(expr, CallFunc):\n",
    "        return isatom(expr.node)\n",
    "    elif isinstance(expr, (UnaryAdd, UnarySub)):\n",
    "        return isatom(expr.expr)\n",
    "    else:\n",
    "        raise Exception(\"Error in issimple: node {} not recognized\"\n",
    "                        .format(expr))"
   ]
  },
  {
   "cell_type": "code",
   "execution_count": null,
   "metadata": {
    "autoscroll": false,
    "collapsed": false,
    "ein.hycell": false,
    "ein.tags": "worksheet-0",
    "slideshow": {
     "slide_type": "-"
    }
   },
   "outputs": [],
   "source": []
  }
 ],
 "metadata": {
  "kernelspec": {
   "display_name": "Python 2",
   "name": "python2"
  },
  "name": "py2asm.ipynb"
 },
 "nbformat": 4,
 "nbformat_minor": 2
}
